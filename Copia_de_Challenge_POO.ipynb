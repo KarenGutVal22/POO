{
  "nbformat": 4,
  "nbformat_minor": 0,
  "metadata": {
    "colab": {
      "name": "Copia de Challenge POO.ipynb",
      "provenance": [],
      "collapsed_sections": []
    },
    "kernelspec": {
      "name": "python3",
      "display_name": "Python 3"
    },
    "language_info": {
      "name": "python"
    }
  },
  "cells": [
    {
      "cell_type": "markdown",
      "source": [
        "##Ejercicio 1\n",
        "Realizar un programa que conste de una clase llamada Alumno que tenga como atributos el nombre y la nota del alumno. Definir los métodos para inicializar sus atributos, imprimirlos y mostrar un mensaje con el resultado de la nota y si ha aprobado o no.\n"
      ],
      "metadata": {
        "id": "4EFGoEpOl5J9"
      }
    },
    {
      "cell_type": "code",
      "source": [
        "class Alumno():\n",
        "    def __init__(self, nombre, nota):\n",
        "      self.nombre = nombre\n",
        "      self.nota = nota\n",
        "  \n",
        "    def presentarse(self):\n",
        "      print(f\"Mi nombre es {self.nombre} y mi nota es {self.nota}\")\n",
        "      if self.nota > 5:\n",
        "        print('Soy un alumno aprobado')\n",
        "      else:\n",
        "        print('Soy un alumno reprobado')\n",
        "\n",
        "A1=Alumno('José', 7)\n",
        "A1.presentarse()"
      ],
      "metadata": {
        "id": "P9ullKnYnFfF",
        "colab": {
          "base_uri": "https://localhost:8080/"
        },
        "outputId": "83493de4-1306-4b3b-8602-e9ffe654432a"
      },
      "execution_count": 22,
      "outputs": [
        {
          "output_type": "stream",
          "name": "stdout",
          "text": [
            "Mi nombre es José y mi nota es 7\n",
            "Soy un alumno aprobado\n"
          ]
        }
      ]
    },
    {
      "cell_type": "markdown",
      "source": [
        "##Ejercicio 2\n",
        "Realizar un programa que tenga una clase Persona con las siguientes características. La clase tendrá como atributos el nombre y la edad de una persona. Implementar los métodos necesarios para inicializar los atributos, mostrar los datos e indicar si la persona es mayor de edad o no.\n"
      ],
      "metadata": {
        "id": "b_bGLJVvmDb5"
      }
    },
    {
      "cell_type": "code",
      "source": [
        "class Persona():\n",
        "    def __init__(self, nombre, edad):\n",
        "      self.nombre = nombre\n",
        "      self.edad = edad\n",
        "    \n",
        "    def presentarse(self):\n",
        "      print(f\"Mi nombre es {self.nombre} y tengo {self.edad} años\")\n",
        "      if self.edad >= 18:\n",
        "        print('Soy mayor de edad')\n",
        "      else:\n",
        "        print('Soy menor de edad')\n",
        "\n",
        "P1 = Persona('Karen',20)\n",
        "P1.presentarse()"
      ],
      "metadata": {
        "id": "t_Kbaj2EnF9N",
        "colab": {
          "base_uri": "https://localhost:8080/"
        },
        "outputId": "2ea74fc1-ec48-4062-bbb3-ccbf6bc64740"
      },
      "execution_count": 24,
      "outputs": [
        {
          "output_type": "stream",
          "name": "stdout",
          "text": [
            "Mi nombre es Karen y tengo 20 años\n",
            "Soy mayor de edad\n"
          ]
        }
      ]
    },
    {
      "cell_type": "markdown",
      "source": [
        "##Ejercicio 3\n",
        "Desarrollar un programa que cargue los datos de un triángulo. Implementar una clase con los métodos para inicializar los atributos, imprimir el valor del lado con un tamaño mayor y  el tipo de triángulo que es (equilátero, isósceles o escaleno).\n"
      ],
      "metadata": {
        "id": "Esf21Be0mTBn"
      }
    },
    {
      "cell_type": "code",
      "source": [
        "class Triangulo():\n",
        "  def __init__(self, lado_uno, lado_dos, lado_tres):\n",
        "    self.l1 = lado_uno\n",
        "    self.l2 = lado_dos\n",
        "    self.l3 = lado_tres\n",
        "  \n",
        "  def lado_mayor(self):\n",
        "    l_max = max(self.l1, self.l2, self.l3)\n",
        "    print(f\"El lado más grande es de {l_max}\")\n",
        "  \n",
        "  def tipo_triangulo(self):\n",
        "    if self.l1 == self.l2 and self.l1 == self.l3:\n",
        "      print(f\"El triángulo es equilatero\")\n",
        "    elif self.l1 == self.l2 and self.l1 != self.l3:\n",
        "      print(f\"El triángulo es isósceles\")\n",
        "    else:\n",
        "      print(f\"El triángulo es escaleno\")\n",
        "\n",
        "T1 = Triangulo(2,2,7)\n",
        "T1.lado_mayor()\n",
        "T1.tipo_triangulo()"
      ],
      "metadata": {
        "id": "sPqi1jqCnGfD",
        "colab": {
          "base_uri": "https://localhost:8080/"
        },
        "outputId": "c53b94a1-387f-4570-9d15-79ced328dd94"
      },
      "execution_count": 34,
      "outputs": [
        {
          "output_type": "stream",
          "name": "stdout",
          "text": [
            "El lado más grande es de 7\n",
            "El triángulo es isósceles\n"
          ]
        }
      ]
    },
    {
      "cell_type": "markdown",
      "source": [
        "##Ejercicio 4\n",
        "Realizar un programa en el cual se declaren dos valores enteros por teclado utilizando el método __init__. Calcular después la suma, resta, multiplicación y división. Utilizar un método para cada una e imprimir los resultados obtenidos. Llamar a la clase Calculadora."
      ],
      "metadata": {
        "id": "FuDVAwyLmXM_"
      }
    },
    {
      "cell_type": "code",
      "source": [
        "class Calculadora():\n",
        "  def __init__(self, x, y):\n",
        "    self.x = x\n",
        "    self.y = y\n",
        "  \n",
        "  def suma(self):\n",
        "    print(f\"La suma es {self.x + self.y}\")\n",
        "\n",
        "  def resta(self):\n",
        "    print(f\"La resta es {self.x - self.y}\")\n",
        "\n",
        "  def mult(self):\n",
        "    print(f\"La multiplicación es {self.x * self.y}\")\n",
        "\n",
        "  def div(self):\n",
        "    print(f\"La devisión es {self.x / self.y}\")\n",
        "\n",
        "C1 = Calculadora(14,65)\n",
        "C1.suma()\n",
        "C1.resta()\n",
        "C1.mult()\n",
        "C1.div()"
      ],
      "metadata": {
        "id": "VnFcFidTnG-O",
        "colab": {
          "base_uri": "https://localhost:8080/"
        },
        "outputId": "6ea60932-190d-4662-d46d-5afd6c893c95"
      },
      "execution_count": 31,
      "outputs": [
        {
          "output_type": "stream",
          "name": "stdout",
          "text": [
            "La suma es 79\n",
            "La resta es -51\n",
            "La multiplicación es 910\n",
            "La devisión es 0.2153846153846154\n"
          ]
        }
      ]
    },
    {
      "cell_type": "markdown",
      "source": [
        "##Ejercicio 5\n",
        "Realizar una clase que administre una agenda. Se debe almacenar para cada contacto el nombre, el teléfono y el email. Además deberá mostrar un menú con las siguientes opciones\n",
        "\n",
        "\n",
        "\n",
        "*   Añadir contacto\n",
        "*   Lista de contactos\n",
        "*   Buscar contacto\n",
        "*   Editar contacto\n",
        "*   Cerrar agenda"
      ],
      "metadata": {
        "id": "NmarrIA6mdo5"
      }
    },
    {
      "cell_type": "code",
      "source": [
        "class Agenda:\n",
        "\tdef __init__(self):\n",
        "\t\tself.contactos=[]\n",
        "\n",
        "\tdef menu(self):\n",
        "\t\tprint()\n",
        "\t\tmenu=[\n",
        "\t\t\t['Agenda'],\n",
        "\t\t\t['1. Añadir Contacto',\"anadir\"],\n",
        "\t\t\t['2. Lista de contactos'],\n",
        "\t\t\t['3. Buscar contacto'],\n",
        "\t\t\t['4. Editar contacto'],\n",
        "\t\t\t['5. Cerrar agenda']\n",
        "\t\t]\n",
        "\n",
        "\t\tfor x in range(6):\n",
        "\t\t\tprint(menu[x][0])\n",
        "\n",
        "\t\topcion=int(input(\"Marque la opción deseada: \"))\n",
        "\t\tif opcion==1:\n",
        "\t\t\tself.anadir()\n",
        "\t\telif opcion==2:\n",
        "\t\t\tself.lista()\n",
        "\t\telif opcion==3:\n",
        "\t\t\tself.buscar()\n",
        "\t\telif opcion==4:\n",
        "\t\t\tself.editar()\n",
        "\t\telif opcion==5:\n",
        "\t\t\tprint(\"Cerrando...\")\n",
        "\t\t\texit()\n",
        "\n",
        "\t\tself.menu()\n",
        "\n",
        "\tdef anadir(self):\n",
        "\t\tprint(\"---------------------\")\n",
        "\t\tprint(\"Añadir nuevo contacto\")\n",
        "\t\tprint(\"---------------------\")\n",
        "\t\tnom=input(\"Nombre del nuevo contacto: \")\n",
        "\t\ttelf=int(input(\"Teléfono: \"))\n",
        "\t\temail=input(\"E-mail: \")\n",
        "\t\tself.contactos.append({'nombre':nom,'telf':telf,'email':email})\n",
        "\t\t\n",
        "\n",
        "\tdef lista(self):\n",
        "\t\tprint(\"------------------\")\n",
        "\t\tprint(\"Lista de contactos\")\n",
        "\t\tprint(\"------------------\")\n",
        "\t\tif len(self.contactos) == 0:\n",
        "\t\t\tprint(\"No hay ningún contacto en la agenda\")\n",
        "\t\telse:\n",
        "\t\t\tfor x in range(len(self.contactos)):\n",
        "\t\t\t\tprint(self.contactos[x]['nombre'])\n",
        "\t\t\n",
        "\n",
        "\tdef buscar(self):\n",
        "\t\tprint(\"---------------------\")\n",
        "\t\tprint(\"Buscador de contactos\")\n",
        "\t\tprint(\"---------------------\")\n",
        "\t\tnom=input(\"Nombre del contacto: \")\n",
        "\t\tfor x in range(len(self.contactos)):\n",
        "\t\t\tif nom == self.contactos[x]['nombre']:\n",
        "\t\t\t\tprint(\"Datos del contacto\")\n",
        "\t\t\t\tprint(\"Nombre: \",self.contactos[x]['nombre'])\n",
        "\t\t\t\tprint(\"Teléfono: \",self.contactos[x]['telf'])\n",
        "\t\t\t\tprint(\"E-mail: \",self.contactos[x]['email'])\n",
        "\t\t\t\treturn x\n",
        "\t\t\n",
        "\n",
        "\tdef editar(self):\n",
        "\t\tprint(\"---------------\")\n",
        "\t\tprint(\"Editar contacto\")\n",
        "\t\tprint(\"---------------\")\n",
        "\t\tdata=self.buscar()\n",
        "\t\tcondition=False\n",
        "\t\twhile condition==False:\n",
        "\t\t\tprint(\"Marque la opción que desee editar: \")\n",
        "\t\t\tprint(\"1. Nombre\")\n",
        "\t\t\tprint(\"2. Teléfono\")\n",
        "\t\t\tprint(\"3. E-mail\")\n",
        "\t\t\tprint(\"4. Volver al menú\")\n",
        "\t\t\toption=int(input(\"Marque la opción deseada: \"))\n",
        "\t\t\tif option==1:\n",
        "\t\t\t\tnom=input(\"Escriba el nuevo nombre: \")\n",
        "\t\t\t\tself.contactos[data]['nombre']=nom\n",
        "\t\t\telif option==2:\n",
        "\t\t\t\ttelf=input(\"Escriba el nuevo teléfono: \")\n",
        "\t\t\t\tself.contactos[data]['telf']=telf\n",
        "\t\t\telif option==3:\n",
        "\t\t\t\temail=input(\"Escriba el nuevo e-mail: \")\n",
        "\t\t\t\tself.contactos[data]['email']=email\n",
        "\t\t\telif option==4:\n",
        "\t\t\t\tcondition=True\n",
        "\n",
        "\n",
        "agenda=Agenda()\n",
        "agenda.menu()"
      ],
      "metadata": {
        "id": "hvhudvVInHpR",
        "colab": {
          "base_uri": "https://localhost:8080/",
          "height": 659
        },
        "outputId": "b0ae673a-77f7-4d96-ecda-173f90cffcb6"
      },
      "execution_count": 56,
      "outputs": [
        {
          "output_type": "stream",
          "name": "stdout",
          "text": [
            "\n",
            "Agenda\n",
            "1. Añadir Contacto\n",
            "2. Lista de contactos\n",
            "3. Buscar contacto\n",
            "4. Editar contacto\n",
            "5. Cerrar agenda\n"
          ]
        },
        {
          "output_type": "error",
          "ename": "KeyboardInterrupt",
          "evalue": "ignored",
          "traceback": [
            "\u001b[0;31m---------------------------------------------------------------------------\u001b[0m",
            "\u001b[0;31mKeyboardInterrupt\u001b[0m                         Traceback (most recent call last)",
            "\u001b[0;32m/usr/local/lib/python3.7/dist-packages/ipykernel/kernelbase.py\u001b[0m in \u001b[0;36m_input_request\u001b[0;34m(self, prompt, ident, parent, password)\u001b[0m\n\u001b[1;32m    728\u001b[0m             \u001b[0;32mtry\u001b[0m\u001b[0;34m:\u001b[0m\u001b[0;34m\u001b[0m\u001b[0;34m\u001b[0m\u001b[0m\n\u001b[0;32m--> 729\u001b[0;31m                 \u001b[0mident\u001b[0m\u001b[0;34m,\u001b[0m \u001b[0mreply\u001b[0m \u001b[0;34m=\u001b[0m \u001b[0mself\u001b[0m\u001b[0;34m.\u001b[0m\u001b[0msession\u001b[0m\u001b[0;34m.\u001b[0m\u001b[0mrecv\u001b[0m\u001b[0;34m(\u001b[0m\u001b[0mself\u001b[0m\u001b[0;34m.\u001b[0m\u001b[0mstdin_socket\u001b[0m\u001b[0;34m,\u001b[0m \u001b[0;36m0\u001b[0m\u001b[0;34m)\u001b[0m\u001b[0;34m\u001b[0m\u001b[0;34m\u001b[0m\u001b[0m\n\u001b[0m\u001b[1;32m    730\u001b[0m             \u001b[0;32mexcept\u001b[0m \u001b[0mException\u001b[0m\u001b[0;34m:\u001b[0m\u001b[0;34m\u001b[0m\u001b[0;34m\u001b[0m\u001b[0m\n",
            "\u001b[0;32m/usr/local/lib/python3.7/dist-packages/jupyter_client/session.py\u001b[0m in \u001b[0;36mrecv\u001b[0;34m(self, socket, mode, content, copy)\u001b[0m\n\u001b[1;32m    802\u001b[0m         \u001b[0;32mtry\u001b[0m\u001b[0;34m:\u001b[0m\u001b[0;34m\u001b[0m\u001b[0;34m\u001b[0m\u001b[0m\n\u001b[0;32m--> 803\u001b[0;31m             \u001b[0mmsg_list\u001b[0m \u001b[0;34m=\u001b[0m \u001b[0msocket\u001b[0m\u001b[0;34m.\u001b[0m\u001b[0mrecv_multipart\u001b[0m\u001b[0;34m(\u001b[0m\u001b[0mmode\u001b[0m\u001b[0;34m,\u001b[0m \u001b[0mcopy\u001b[0m\u001b[0;34m=\u001b[0m\u001b[0mcopy\u001b[0m\u001b[0;34m)\u001b[0m\u001b[0;34m\u001b[0m\u001b[0;34m\u001b[0m\u001b[0m\n\u001b[0m\u001b[1;32m    804\u001b[0m         \u001b[0;32mexcept\u001b[0m \u001b[0mzmq\u001b[0m\u001b[0;34m.\u001b[0m\u001b[0mZMQError\u001b[0m \u001b[0;32mas\u001b[0m \u001b[0me\u001b[0m\u001b[0;34m:\u001b[0m\u001b[0;34m\u001b[0m\u001b[0;34m\u001b[0m\u001b[0m\n",
            "\u001b[0;32m/usr/local/lib/python3.7/dist-packages/zmq/sugar/socket.py\u001b[0m in \u001b[0;36mrecv_multipart\u001b[0;34m(self, flags, copy, track)\u001b[0m\n\u001b[1;32m    624\u001b[0m         \"\"\"\n\u001b[0;32m--> 625\u001b[0;31m         \u001b[0mparts\u001b[0m \u001b[0;34m=\u001b[0m \u001b[0;34m[\u001b[0m\u001b[0mself\u001b[0m\u001b[0;34m.\u001b[0m\u001b[0mrecv\u001b[0m\u001b[0;34m(\u001b[0m\u001b[0mflags\u001b[0m\u001b[0;34m,\u001b[0m \u001b[0mcopy\u001b[0m\u001b[0;34m=\u001b[0m\u001b[0mcopy\u001b[0m\u001b[0;34m,\u001b[0m \u001b[0mtrack\u001b[0m\u001b[0;34m=\u001b[0m\u001b[0mtrack\u001b[0m\u001b[0;34m)\u001b[0m\u001b[0;34m]\u001b[0m\u001b[0;34m\u001b[0m\u001b[0;34m\u001b[0m\u001b[0m\n\u001b[0m\u001b[1;32m    626\u001b[0m         \u001b[0;31m# have first part already, only loop while more to receive\u001b[0m\u001b[0;34m\u001b[0m\u001b[0;34m\u001b[0m\u001b[0;34m\u001b[0m\u001b[0m\n",
            "\u001b[0;32mzmq/backend/cython/socket.pyx\u001b[0m in \u001b[0;36mzmq.backend.cython.socket.Socket.recv\u001b[0;34m()\u001b[0m\n",
            "\u001b[0;32mzmq/backend/cython/socket.pyx\u001b[0m in \u001b[0;36mzmq.backend.cython.socket.Socket.recv\u001b[0;34m()\u001b[0m\n",
            "\u001b[0;32mzmq/backend/cython/socket.pyx\u001b[0m in \u001b[0;36mzmq.backend.cython.socket._recv_copy\u001b[0;34m()\u001b[0m\n",
            "\u001b[0;32m/usr/local/lib/python3.7/dist-packages/zmq/backend/cython/checkrc.pxd\u001b[0m in \u001b[0;36mzmq.backend.cython.checkrc._check_rc\u001b[0;34m()\u001b[0m\n",
            "\u001b[0;31mKeyboardInterrupt\u001b[0m: ",
            "\nDuring handling of the above exception, another exception occurred:\n",
            "\u001b[0;31mKeyboardInterrupt\u001b[0m                         Traceback (most recent call last)",
            "\u001b[0;32m<ipython-input-56-c707aec26b0c>\u001b[0m in \u001b[0;36m<module>\u001b[0;34m()\u001b[0m\n\u001b[1;32m     94\u001b[0m \u001b[0;34m\u001b[0m\u001b[0m\n\u001b[1;32m     95\u001b[0m \u001b[0magenda\u001b[0m\u001b[0;34m=\u001b[0m\u001b[0mAgenda\u001b[0m\u001b[0;34m(\u001b[0m\u001b[0;34m)\u001b[0m\u001b[0;34m\u001b[0m\u001b[0;34m\u001b[0m\u001b[0m\n\u001b[0;32m---> 96\u001b[0;31m \u001b[0magenda\u001b[0m\u001b[0;34m.\u001b[0m\u001b[0mmenu\u001b[0m\u001b[0;34m(\u001b[0m\u001b[0;34m)\u001b[0m\u001b[0;34m\u001b[0m\u001b[0;34m\u001b[0m\u001b[0m\n\u001b[0m",
            "\u001b[0;32m<ipython-input-56-c707aec26b0c>\u001b[0m in \u001b[0;36mmenu\u001b[0;34m(self)\u001b[0m\n\u001b[1;32m     17\u001b[0m                         \u001b[0mprint\u001b[0m\u001b[0;34m(\u001b[0m\u001b[0mmenu\u001b[0m\u001b[0;34m[\u001b[0m\u001b[0mx\u001b[0m\u001b[0;34m]\u001b[0m\u001b[0;34m[\u001b[0m\u001b[0;36m0\u001b[0m\u001b[0;34m]\u001b[0m\u001b[0;34m)\u001b[0m\u001b[0;34m\u001b[0m\u001b[0;34m\u001b[0m\u001b[0m\n\u001b[1;32m     18\u001b[0m \u001b[0;34m\u001b[0m\u001b[0m\n\u001b[0;32m---> 19\u001b[0;31m                 \u001b[0mopcion\u001b[0m\u001b[0;34m=\u001b[0m\u001b[0mint\u001b[0m\u001b[0;34m(\u001b[0m\u001b[0minput\u001b[0m\u001b[0;34m(\u001b[0m\u001b[0;34m\"Marque la opción deseada: \"\u001b[0m\u001b[0;34m)\u001b[0m\u001b[0;34m)\u001b[0m\u001b[0;34m\u001b[0m\u001b[0;34m\u001b[0m\u001b[0m\n\u001b[0m\u001b[1;32m     20\u001b[0m                 \u001b[0;32mif\u001b[0m \u001b[0mopcion\u001b[0m\u001b[0;34m==\u001b[0m\u001b[0;36m1\u001b[0m\u001b[0;34m:\u001b[0m\u001b[0;34m\u001b[0m\u001b[0;34m\u001b[0m\u001b[0m\n\u001b[1;32m     21\u001b[0m                         \u001b[0mself\u001b[0m\u001b[0;34m.\u001b[0m\u001b[0manadir\u001b[0m\u001b[0;34m(\u001b[0m\u001b[0;34m)\u001b[0m\u001b[0;34m\u001b[0m\u001b[0;34m\u001b[0m\u001b[0m\n",
            "\u001b[0;32m/usr/local/lib/python3.7/dist-packages/ipykernel/kernelbase.py\u001b[0m in \u001b[0;36mraw_input\u001b[0;34m(self, prompt)\u001b[0m\n\u001b[1;32m    702\u001b[0m             \u001b[0mself\u001b[0m\u001b[0;34m.\u001b[0m\u001b[0m_parent_ident\u001b[0m\u001b[0;34m,\u001b[0m\u001b[0;34m\u001b[0m\u001b[0;34m\u001b[0m\u001b[0m\n\u001b[1;32m    703\u001b[0m             \u001b[0mself\u001b[0m\u001b[0;34m.\u001b[0m\u001b[0m_parent_header\u001b[0m\u001b[0;34m,\u001b[0m\u001b[0;34m\u001b[0m\u001b[0;34m\u001b[0m\u001b[0m\n\u001b[0;32m--> 704\u001b[0;31m             \u001b[0mpassword\u001b[0m\u001b[0;34m=\u001b[0m\u001b[0;32mFalse\u001b[0m\u001b[0;34m,\u001b[0m\u001b[0;34m\u001b[0m\u001b[0;34m\u001b[0m\u001b[0m\n\u001b[0m\u001b[1;32m    705\u001b[0m         )\n\u001b[1;32m    706\u001b[0m \u001b[0;34m\u001b[0m\u001b[0m\n",
            "\u001b[0;32m/usr/local/lib/python3.7/dist-packages/ipykernel/kernelbase.py\u001b[0m in \u001b[0;36m_input_request\u001b[0;34m(self, prompt, ident, parent, password)\u001b[0m\n\u001b[1;32m    732\u001b[0m             \u001b[0;32mexcept\u001b[0m \u001b[0mKeyboardInterrupt\u001b[0m\u001b[0;34m:\u001b[0m\u001b[0;34m\u001b[0m\u001b[0;34m\u001b[0m\u001b[0m\n\u001b[1;32m    733\u001b[0m                 \u001b[0;31m# re-raise KeyboardInterrupt, to truncate traceback\u001b[0m\u001b[0;34m\u001b[0m\u001b[0;34m\u001b[0m\u001b[0;34m\u001b[0m\u001b[0m\n\u001b[0;32m--> 734\u001b[0;31m                 \u001b[0;32mraise\u001b[0m \u001b[0mKeyboardInterrupt\u001b[0m\u001b[0;34m\u001b[0m\u001b[0;34m\u001b[0m\u001b[0m\n\u001b[0m\u001b[1;32m    735\u001b[0m             \u001b[0;32melse\u001b[0m\u001b[0;34m:\u001b[0m\u001b[0;34m\u001b[0m\u001b[0;34m\u001b[0m\u001b[0m\n\u001b[1;32m    736\u001b[0m                 \u001b[0;32mbreak\u001b[0m\u001b[0;34m\u001b[0m\u001b[0;34m\u001b[0m\u001b[0m\n",
            "\u001b[0;31mKeyboardInterrupt\u001b[0m: "
          ]
        }
      ]
    },
    {
      "cell_type": "markdown",
      "source": [
        "##Ejercicio 6\n",
        "En un banco tienen clientes que pueden hacer depósitos y extracciones de dinero. El banco requiere también al final del día calcular la cantidad de dinero que se ha depositado.\n",
        "\n",
        "Se deberán crear dos clases, la clase cliente y la clase banco. La clase cliente tendrá los atributos nombre y cantidad y los métodos __init__, depositar, extraer, mostrar_total.\n",
        "\n",
        "La clase banco tendrá como atributos 3 objetos de la clase cliente y los métodos __init__, operar y deposito_total."
      ],
      "metadata": {
        "id": "pIFlDlAnmyyh"
      }
    },
    {
      "cell_type": "code",
      "source": [
        "class Banco:\n",
        "\tdef __init__(self):\n",
        "\t\tself.cliente1=Cliente(\"Arturo\")\n",
        "\t\tself.cliente2=Cliente(\"Rubén\")\n",
        "\t\tself.cliente3=Cliente(\"Eduardo\")\n",
        "  \n",
        "\tdef operacion(self):\n",
        "\t\tself.cliente1.depositar(328)\n",
        "\t\tself.cliente2.depositar(300)\n",
        "\t\tself.cliente3.depositar(400)\n",
        "\t\tself.cliente1.extraer(215)\n",
        "\n",
        "\tdef depositos(self):\n",
        "\t\ttotal=self.cliente1.devolver_cantidad()+self.cliente2.devolver_cantidad()+self.cliente3.devolver_cantidad()\n",
        "\t\tprint(\"El banco tiene una cantidad total de:\",total)\n",
        "\t\tself.cliente1.imprimir()\n",
        "\t\tself.cliente2.imprimir()\n",
        "\t\tself.cliente3.imprimir()\n",
        "\n",
        "\n",
        "class Cliente:\n",
        "\tdef __init__(self,nombre):\n",
        "\t\tself.nombre=nombre\n",
        "\t\tself.cantidad=0\n",
        "\n",
        "\tdef depositar(self,cantidad):\n",
        "\t\tself.cantidad+=cantidad\n",
        "\n",
        "\tdef extraer(self,cantidad):\n",
        "\t\tself.cantidad-=cantidad\n",
        "\n",
        "\tdef devolver_cantidad(self):\n",
        "\t\treturn self.cantidad\n",
        "\n",
        "\tdef imprimir(self):\n",
        "\t\tprint(self.nombre, \" tiene la cantidad de\",self.cantidad)\n",
        "\n",
        "\n",
        "banco1=Banco()\n",
        "banco1.operacion()\n",
        "banco1.depositos()"
      ],
      "metadata": {
        "id": "7gjXBfvCnIQJ",
        "colab": {
          "base_uri": "https://localhost:8080/"
        },
        "outputId": "bd549dac-fec8-424d-eea7-8cdace0ef4cb"
      },
      "execution_count": 55,
      "outputs": [
        {
          "output_type": "stream",
          "name": "stdout",
          "text": [
            "El banco tiene una cantidad total de: 813\n",
            "Arturo  tiene la cantidad de 113\n",
            "Rubén  tiene la cantidad de 300\n",
            "Eduardo  tiene la cantidad de 400\n"
          ]
        }
      ]
    },
    {
      "cell_type": "markdown",
      "source": [
        "##Ejercicio 7\n",
        "Desarrollar un programa que conste de una clase padre Cuenta y dos subclases PlazoFijo y CajaAhorro. Definir los atributos titular y cantidad y un método para imprimir los datos en la clase Cuenta. La clase CajaAhorro tendrá un método para heredar los datos y uno para mostrar la información.\n",
        "\n",
        "La clase PlazoFijo tendrá dos atributos propios, plazo e interés. Tendrá un método para obtener el importe del interés (cantidad*interés/100) y otro método para mostrar la información, datos del titular plazo, interés y total de interés.\n",
        "\n",
        "Crear al menos un objeto de cada subclase.\n",
        "\n"
      ],
      "metadata": {
        "id": "B7ZTRLdum2NG"
      }
    },
    {
      "cell_type": "code",
      "source": [
        "class Cuenta:\n",
        "\tdef __init__(self,titular,cantidad):\n",
        "\t\tself.titular=titular\n",
        "\t\tself.cantidad=cantidad\n",
        "\n",
        "\tdef imprimir(self):\n",
        "\t\tprint(\"Titular: \",self.titular)\n",
        "\t\tprint(\"Cantidad: \", self.cantidad)\n",
        "\n",
        "\n",
        "class CajaAhorro(Cuenta):\n",
        "\tdef __init__(self,titular,cantidad):\n",
        "\t\tsuper().__init__(titular,cantidad)\n",
        "\n",
        "\tdef imprimir(self):\n",
        "\t\tprint(\"Cuenta de caja de ahorro\")\n",
        "\t\tsuper().imprimir()\n",
        "\n",
        "\n",
        "class PlazoFijo(Cuenta):\n",
        "\tdef __init__(self,titular,cantidad,plazo,interes):\n",
        "\t\tsuper().__init__(titular,cantidad)\n",
        "\t\tself.plazo=plazo\n",
        "\t\tself.interes=interes\n",
        "\n",
        "\tdef ganancia(self):\n",
        "\t\tganancia=self.cantidad*self.interes/100\n",
        "\t\tprint(\"El importe de interés es: \",ganancia)\n",
        "\n",
        "\tdef imprimir(self):\n",
        "\t\tprint(\"Cuenta a plazo fijo\")\n",
        "\t\tsuper().imprimir()\n",
        "\t\tprint(\"Plazo disponible en días: \",self.plazo)\n",
        "\t\tprint(\"Interés: \",self.interes)\n",
        "\t\tself.ganancia()\n",
        "\n",
        "caja1=CajaAhorro(\"Marcela\",12000)\n",
        "caja1.imprimir()\n",
        "\n",
        "plazo1=PlazoFijo(\"Sergio\",40892,256,2.3)\n",
        "plazo1.imprimir()"
      ],
      "metadata": {
        "id": "F2wvhFNYnI2Z",
        "colab": {
          "base_uri": "https://localhost:8080/"
        },
        "outputId": "260d8f1f-fed9-4ade-c2e9-f3e986b6bfcf"
      },
      "execution_count": 59,
      "outputs": [
        {
          "output_type": "stream",
          "name": "stdout",
          "text": [
            "Cuenta de caja de ahorro\n",
            "Titular:  Marcela\n",
            "Cantidad:  12000\n",
            "Cuenta a plazo fijo\n",
            "Titular:  Sergio\n",
            "Cantidad:  40892\n",
            "Plazo disponible en días:  256\n",
            "Interés:  2.3\n",
            "El importe de interés es:  940.516\n"
          ]
        }
      ]
    }
  ]
}